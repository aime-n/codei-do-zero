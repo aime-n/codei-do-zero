{
 "cells": [
  {
   "cell_type": "code",
   "execution_count": null,
   "metadata": {},
   "outputs": [],
   "source": [
    "!pip install mido"
   ]
  },
  {
   "cell_type": "code",
   "execution_count": null,
   "metadata": {},
   "outputs": [],
   "source": [
    "import mido\n",
    "from mido import MidiFile\n",
    "\n",
    "def midi_to_text(midi_file_path):\n",
    "    midi = MidiFile(midi_file_path)\n",
    "    \n",
    "    for track in midi.tracks:\n",
    "        print(f\"Track {track.name}\")\n",
    "        for msg in track:\n",
    "            print(msg)\n",
    "\n",
    "# Provide the path to your MIDI file\n",
    "midi_to_text(\"path_to_your_midi_file.mid\")\n"
   ]
  }
 ],
 "metadata": {
  "kernelspec": {
   "display_name": "Python 3",
   "language": "python",
   "name": "python3"
  },
  "language_info": {
   "name": "python",
   "version": "3.11.6"
  }
 },
 "nbformat": 4,
 "nbformat_minor": 2
}
